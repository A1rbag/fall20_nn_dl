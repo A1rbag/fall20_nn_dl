{
  "nbformat": 4,
  "nbformat_minor": 0,
  "metadata": {
    "colab": {
      "name": "590-A3.ipynb",
      "provenance": [],
      "collapsed_sections": [],
      "authorship_tag": "ABX9TyPXZd3b+2qA+EezOfuAbgB6"
    },
    "kernelspec": {
      "name": "python3",
      "display_name": "Python 3"
    }
  },
  "cells": [
    {
      "cell_type": "code",
      "metadata": {
        "id": "P4ROuk-sS81M"
      },
      "source": [
        "import numpy as np\n",
        "import pandas as pd\n",
        "import matplotlib.pyplot as plt\n",
        "\n",
        "import tensorflow as tf\n",
        "import tensorflow.keras as tfk\n",
        "import tensorflow.keras.layers as tfkl\n",
        "from tensorflow.keras.models import Sequential\n",
        "from tensorflow.keras.applications import VGG16\n",
        "tfkl = tfk.layers"
      ],
      "execution_count": 15,
      "outputs": []
    },
    {
      "cell_type": "code",
      "metadata": {
        "id": "qnWJoj-5UI08"
      },
      "source": [
        "import keras\n",
        "from keras.datasets import cifar10\n",
        "from keras import layers\n",
        "from keras.preprocessing.text import Tokenizer\n",
        "from keras.preprocessing import sequence\n",
        "from keras.callbacks import TensorBoard\n",
        "from keras.models import Model\n",
        "from keras import backend as K\n",
        "from keras.utils import np_utils\n",
        "from keras.optimizers import Adam\n",
        "from keras.layers import Input, Dense, Flatten, Dropout, Conv2D, MaxPooling2D, UpSampling2D"
      ],
      "execution_count": 16,
      "outputs": []
    },
    {
      "cell_type": "markdown",
      "metadata": {
        "id": "S6aDeilLUTCn"
      },
      "source": [
        "1. Autoencoder"
      ]
    },
    {
      "cell_type": "code",
      "metadata": {
        "id": "MnrnxP7YTAvQ"
      },
      "source": [
        "# load in dataset\n",
        "(X_train, y_train), (X_test, y_test)=cifar10.load_data()"
      ],
      "execution_count": 17,
      "outputs": []
    },
    {
      "cell_type": "code",
      "metadata": {
        "colab": {
          "base_uri": "https://localhost:8080/"
        },
        "id": "QYHWVPN_UaXz",
        "outputId": "fd2c0961-7f35-4eac-8cab-2254fb0a536b"
      },
      "source": [
        "X_train.shape, y_train.shape, X_test.shape, y_test.shape"
      ],
      "execution_count": 18,
      "outputs": [
        {
          "output_type": "execute_result",
          "data": {
            "text/plain": [
              "((50000, 32, 32, 3), (50000, 1), (10000, 32, 32, 3), (10000, 1))"
            ]
          },
          "metadata": {
            "tags": []
          },
          "execution_count": 18
        }
      ]
    },
    {
      "cell_type": "code",
      "metadata": {
        "id": "_CG_jiksUchz"
      },
      "source": [
        "# RGB 0-255 convert to 0-1\n",
        "X_train = X_train.astype('float32')/255.0\n",
        "X_test = X_test.astype('float32')/255.0"
      ],
      "execution_count": 19,
      "outputs": []
    },
    {
      "cell_type": "code",
      "metadata": {
        "colab": {
          "base_uri": "https://localhost:8080/"
        },
        "id": "ItOXObjoUj3O",
        "outputId": "566f5504-91c8-4906-d030-66e67319924d"
      },
      "source": [
        "# build the model\n",
        "input_img = Input(shape=(32,32,3))\n",
        "\n",
        "m1 = Conv2D(filters=32, kernel_size=(3,3),padding=\"same\", activation='relu')(input_img)\n",
        "m1 = MaxPooling2D((2, 2), padding='same')(m1)\n",
        "\n",
        "m1 = Conv2D(8, kernel_size = (3, 3), activation='relu', padding='same')(m1)\n",
        "m1 = MaxPooling2D((2, 2), padding='same')(m1)\n",
        "\n",
        "m1 = Conv2D(8, kernel_size = (3, 3), activation='relu', padding='same')(m1)\n",
        "encoded = MaxPooling2D((2, 2), padding='same')(m1)\n",
        "\n",
        "##\n",
        "\n",
        "m1 = Conv2D(8, kernel_size =  (3, 3), activation='relu', padding='same')(encoded)\n",
        "m1 = UpSampling2D((2, 2))(m1)\n",
        "\n",
        "m1 = Conv2D(8, kernel_size = (3, 3), activation='relu', padding='same')(m1)\n",
        "m1 = UpSampling2D((2, 2))(m1)\n",
        "\n",
        "m1 = Conv2D(32, kernel_size = (3, 3), activation='relu',padding='same')(m1)\n",
        "m1 = UpSampling2D((2, 2))(m1)\n",
        "\n",
        "output = Conv2D(3, kernel_size = (3, 3), activation='relu', padding='same')(m1)\n",
        "\n",
        "\n",
        "autoencoder = Model(input_img, output)\n",
        "autoencoder.compile(optimizer='adam', metrics=['accuracy'], loss='mean_squared_error')\n",
        "autoencoder.summary()"
      ],
      "execution_count": 20,
      "outputs": [
        {
          "output_type": "stream",
          "text": [
            "Model: \"functional_5\"\n",
            "_________________________________________________________________\n",
            "Layer (type)                 Output Shape              Param #   \n",
            "=================================================================\n",
            "input_3 (InputLayer)         [(None, 32, 32, 3)]       0         \n",
            "_________________________________________________________________\n",
            "conv2d_14 (Conv2D)           (None, 32, 32, 32)        896       \n",
            "_________________________________________________________________\n",
            "max_pooling2d_6 (MaxPooling2 (None, 16, 16, 32)        0         \n",
            "_________________________________________________________________\n",
            "conv2d_15 (Conv2D)           (None, 16, 16, 8)         2312      \n",
            "_________________________________________________________________\n",
            "max_pooling2d_7 (MaxPooling2 (None, 8, 8, 8)           0         \n",
            "_________________________________________________________________\n",
            "conv2d_16 (Conv2D)           (None, 8, 8, 8)           584       \n",
            "_________________________________________________________________\n",
            "max_pooling2d_8 (MaxPooling2 (None, 4, 4, 8)           0         \n",
            "_________________________________________________________________\n",
            "conv2d_17 (Conv2D)           (None, 4, 4, 8)           584       \n",
            "_________________________________________________________________\n",
            "up_sampling2d_6 (UpSampling2 (None, 8, 8, 8)           0         \n",
            "_________________________________________________________________\n",
            "conv2d_18 (Conv2D)           (None, 8, 8, 8)           584       \n",
            "_________________________________________________________________\n",
            "up_sampling2d_7 (UpSampling2 (None, 16, 16, 8)         0         \n",
            "_________________________________________________________________\n",
            "conv2d_19 (Conv2D)           (None, 16, 16, 32)        2336      \n",
            "_________________________________________________________________\n",
            "up_sampling2d_8 (UpSampling2 (None, 32, 32, 32)        0         \n",
            "_________________________________________________________________\n",
            "conv2d_20 (Conv2D)           (None, 32, 32, 3)         867       \n",
            "=================================================================\n",
            "Total params: 8,163\n",
            "Trainable params: 8,163\n",
            "Non-trainable params: 0\n",
            "_________________________________________________________________\n"
          ],
          "name": "stdout"
        }
      ]
    },
    {
      "cell_type": "code",
      "metadata": {
        "colab": {
          "base_uri": "https://localhost:8080/"
        },
        "id": "eo68Uv0pTjAa",
        "outputId": "7a1522cf-0104-4b60-fc82-e1e2966d5870"
      },
      "source": [
        "autoencoder.fit(X_train, X_train,\n",
        "                epochs=10,\n",
        "                batch_size=128,\n",
        "                shuffle=True,\n",
        "                validation_data=(X_test, X_test))"
      ],
      "execution_count": 21,
      "outputs": [
        {
          "output_type": "stream",
          "text": [
            "Epoch 1/10\n",
            "391/391 [==============================] - 158s 405ms/step - loss: 0.0355 - accuracy: 0.4130 - val_loss: 0.0209 - val_accuracy: 0.4287\n",
            "Epoch 2/10\n",
            "391/391 [==============================] - 161s 412ms/step - loss: 0.0192 - accuracy: 0.4708 - val_loss: 0.0176 - val_accuracy: 0.5539\n",
            "Epoch 3/10\n",
            "391/391 [==============================] - 159s 406ms/step - loss: 0.0161 - accuracy: 0.5854 - val_loss: 0.0153 - val_accuracy: 0.6119\n",
            "Epoch 4/10\n",
            "391/391 [==============================] - 159s 407ms/step - loss: 0.0148 - accuracy: 0.6131 - val_loss: 0.0144 - val_accuracy: 0.6238\n",
            "Epoch 5/10\n",
            "391/391 [==============================] - 159s 406ms/step - loss: 0.0141 - accuracy: 0.6231 - val_loss: 0.0139 - val_accuracy: 0.6241\n",
            "Epoch 6/10\n",
            "391/391 [==============================] - 159s 405ms/step - loss: 0.0136 - accuracy: 0.6288 - val_loss: 0.0136 - val_accuracy: 0.6360\n",
            "Epoch 7/10\n",
            "391/391 [==============================] - 158s 403ms/step - loss: 0.0132 - accuracy: 0.6334 - val_loss: 0.0131 - val_accuracy: 0.6409\n",
            "Epoch 8/10\n",
            "391/391 [==============================] - 158s 404ms/step - loss: 0.0130 - accuracy: 0.6366 - val_loss: 0.0129 - val_accuracy: 0.6252\n",
            "Epoch 9/10\n",
            "391/391 [==============================] - 159s 405ms/step - loss: 0.0127 - accuracy: 0.6391 - val_loss: 0.0128 - val_accuracy: 0.6489\n",
            "Epoch 10/10\n",
            "391/391 [==============================] - 157s 402ms/step - loss: 0.0126 - accuracy: 0.6410 - val_loss: 0.0125 - val_accuracy: 0.6304\n"
          ],
          "name": "stdout"
        },
        {
          "output_type": "execute_result",
          "data": {
            "text/plain": [
              "<tensorflow.python.keras.callbacks.History at 0x7fb3527a4748>"
            ]
          },
          "metadata": {
            "tags": []
          },
          "execution_count": 21
        }
      ]
    },
    {
      "cell_type": "code",
      "metadata": {
        "colab": {
          "base_uri": "https://localhost:8080/",
          "height": 352
        },
        "id": "0JxDOTuWUpUu",
        "outputId": "2e06dc3d-63c2-4ef5-eca2-01de11990cda"
      },
      "source": [
        "new_img = autoencoder.predict(X_test)\n",
        "\n",
        "plt.figure(figsize=(15,5))\n",
        "for i in range(1,6):\n",
        "    # original\n",
        "    ax = plt.subplot(2, 5, i)\n",
        "    plt.imshow(X_test[i])\n",
        "    ax.get_xaxis().set_visible(False)\n",
        "    ax.get_yaxis().set_visible(False)\n",
        "    \n",
        "    # new\n",
        "    ax = plt.subplot(2, 5, i + 5)\n",
        "    plt.imshow(new_img[i])\n",
        "    ax.get_xaxis().set_visible(False)\n",
        "    ax.get_yaxis().set_visible(False)\n",
        "plt.show()"
      ],
      "execution_count": 22,
      "outputs": [
        {
          "output_type": "stream",
          "text": [
            "Clipping input data to the valid range for imshow with RGB data ([0..1] for floats or [0..255] for integers).\n",
            "Clipping input data to the valid range for imshow with RGB data ([0..1] for floats or [0..255] for integers).\n"
          ],
          "name": "stderr"
        },
        {
          "output_type": "display_data",
          "data": {
            "image/png": "[encoded data removed]",
            "text/plain": [
              "<Figure size 1080x360 with 10 Axes>"
            ]
          },
          "metadata": {
            "tags": [],
            "needs_background": "light"
          }
        }
      ]
    },
    {
      "cell_type": "markdown",
      "metadata": {
        "id": "vfARXIiUbkgi"
      },
      "source": [
        "2. Image Classification - Deep CNN"
      ]
    },
    {
      "cell_type": "code",
      "metadata": {
        "colab": {
          "base_uri": "https://localhost:8080/"
        },
        "id": "TpKxaN2Xbrd-",
        "outputId": "54de90bc-a577-4ba3-8489-0595ebf3c8f7"
      },
      "source": [
        "image_cnn = Sequential()\n",
        "image_cnn.add(tfkl.Conv2D(32, 3, activation='relu', \n",
        "                          input_shape=(32, 32, 3)))\n",
        "image_cnn.add(tfkl.MaxPooling2D(2))\n",
        "image_cnn.add(tfkl.Conv2D(64, 3, activation='relu'))\n",
        "image_cnn.add(tfkl.MaxPooling2D(2))\n",
        "image_cnn.add(tfkl.Conv2D(64, 3, activation='relu'))\n",
        "\n",
        "image_cnn.add(tfkl.Flatten())\n",
        "image_cnn.add(tfkl.Dense(64, activation='relu'))\n",
        "image_cnn.add(tfkl.Dropout(rate=0.3))\n",
        "image_cnn.add(tfkl.Dense(10))\n",
        "\n",
        "image_cnn.summary()"
      ],
      "execution_count": 23,
      "outputs": [
        {
          "output_type": "stream",
          "text": [
            "Model: \"sequential\"\n",
            "_________________________________________________________________\n",
            "Layer (type)                 Output Shape              Param #   \n",
            "=================================================================\n",
            "conv2d_21 (Conv2D)           (None, 30, 30, 32)        896       \n",
            "_________________________________________________________________\n",
            "max_pooling2d_9 (MaxPooling2 (None, 15, 15, 32)        0         \n",
            "_________________________________________________________________\n",
            "conv2d_22 (Conv2D)           (None, 13, 13, 64)        18496     \n",
            "_________________________________________________________________\n",
            "max_pooling2d_10 (MaxPooling (None, 6, 6, 64)          0         \n",
            "_________________________________________________________________\n",
            "conv2d_23 (Conv2D)           (None, 4, 4, 64)          36928     \n",
            "_________________________________________________________________\n",
            "flatten (Flatten)            (None, 1024)              0         \n",
            "_________________________________________________________________\n",
            "dense (Dense)                (None, 64)                65600     \n",
            "_________________________________________________________________\n",
            "dropout (Dropout)            (None, 64)                0         \n",
            "_________________________________________________________________\n",
            "dense_1 (Dense)              (None, 10)                650       \n",
            "=================================================================\n",
            "Total params: 122,570\n",
            "Trainable params: 122,570\n",
            "Non-trainable params: 0\n",
            "_________________________________________________________________\n"
          ],
          "name": "stdout"
        }
      ]
    },
    {
      "cell_type": "code",
      "metadata": {
        "colab": {
          "base_uri": "https://localhost:8080/"
        },
        "id": "xSu4wpF5b8QJ",
        "outputId": "f0fa8c00-caeb-496e-8574-4780c519bcbe"
      },
      "source": [
        "image_cnn.compile(optimizer='adam',loss=tfk.losses.SparseCategoricalCrossentropy(from_logits=True),\n",
        "                  metrics=['accuracy'])\n",
        "\n",
        "history = image_cnn.fit(X_train, y_train, epochs=10, \n",
        "                    validation_data=(X_test, y_test))"
      ],
      "execution_count": 24,
      "outputs": [
        {
          "output_type": "stream",
          "text": [
            "Epoch 1/10\n",
            "1563/1563 [==============================] - 68s 44ms/step - loss: 1.6578 - accuracy: 0.3849 - val_loss: 1.3297 - val_accuracy: 0.5256\n",
            "Epoch 2/10\n",
            "1563/1563 [==============================] - 71s 45ms/step - loss: 1.2970 - accuracy: 0.5359 - val_loss: 1.1535 - val_accuracy: 0.5817\n",
            "Epoch 3/10\n",
            "1563/1563 [==============================] - 69s 44ms/step - loss: 1.1739 - accuracy: 0.5839 - val_loss: 1.0457 - val_accuracy: 0.6241\n",
            "Epoch 4/10\n",
            "1563/1563 [==============================] - 67s 43ms/step - loss: 1.0773 - accuracy: 0.6203 - val_loss: 0.9857 - val_accuracy: 0.6564\n",
            "Epoch 5/10\n",
            "1563/1563 [==============================] - 68s 43ms/step - loss: 1.0086 - accuracy: 0.6453 - val_loss: 0.9459 - val_accuracy: 0.6631\n",
            "Epoch 6/10\n",
            "1563/1563 [==============================] - 68s 43ms/step - loss: 0.9542 - accuracy: 0.6660 - val_loss: 0.9160 - val_accuracy: 0.6822\n",
            "Epoch 7/10\n",
            "1563/1563 [==============================] - 69s 44ms/step - loss: 0.9061 - accuracy: 0.6828 - val_loss: 0.9101 - val_accuracy: 0.6791\n",
            "Epoch 8/10\n",
            "1563/1563 [==============================] - 67s 43ms/step - loss: 0.8667 - accuracy: 0.6967 - val_loss: 0.8684 - val_accuracy: 0.6971\n",
            "Epoch 9/10\n",
            "1563/1563 [==============================] - 68s 43ms/step - loss: 0.8297 - accuracy: 0.7089 - val_loss: 0.8741 - val_accuracy: 0.6963\n",
            "Epoch 10/10\n",
            "1563/1563 [==============================] - 68s 44ms/step - loss: 0.8001 - accuracy: 0.7196 - val_loss: 0.8450 - val_accuracy: 0.7084\n"
          ],
          "name": "stdout"
        }
      ]
    },
    {
      "cell_type": "code",
      "metadata": {
        "colab": {
          "base_uri": "https://localhost:8080/",
          "height": 282
        },
        "id": "ObdBw320cOJw",
        "outputId": "e9fdaea2-8802-4f68-87c3-9b871f439da5"
      },
      "source": [
        "plt.plot(history.history['loss'])\n",
        "plt.plot(history.history['val_loss'])\n",
        "plt.legend(labels=['train','test'])"
      ],
      "execution_count": 26,
      "outputs": [
        {
          "output_type": "execute_result",
          "data": {
            "text/plain": [
              "<matplotlib.legend.Legend at 0x7fb34d391320>"
            ]
          },
          "metadata": {
            "tags": []
          },
          "execution_count": 26
        },
        {
          "output_type": "display_data",
          "data": {
            "image/png": "[encoded data removed]",
            "text/plain": [
              "<Figure size 432x288 with 1 Axes>"
            ]
          },
          "metadata": {
            "tags": [],
            "needs_background": "light"
          }
        }
      ]
    },
    {
      "cell_type": "markdown",
      "metadata": {
        "id": "6xrMWn6SfK5A"
      },
      "source": [
        "2.2 Transfer Learning"
      ]
    },
    {
      "cell_type": "code",
      "metadata": {
        "colab": {
          "base_uri": "https://localhost:8080/"
        },
        "id": "PsFBeJVffOLv",
        "outputId": "ba28e680-a659-40f4-f9b9-5915b7084730"
      },
      "source": [
        "vgg = VGG16(input_shape=(32,32,3), weights='imagenet', include_top=False)\n",
        "for layer in vgg.layers:\n",
        "    layer.trainable = False\n",
        "\n",
        "x = tfkl.Flatten()(vgg.output)\n",
        "prediction = tfkl.Dense(10)(x)\n",
        "vgg_model = Model(inputs=vgg.input, outputs=prediction)\n",
        "vgg_model.compile(loss=tfk.losses.SparseCategoricalCrossentropy(from_logits=True),\n",
        "                    optimizer='adam',\n",
        "                    metrics=['accuracy'])\n",
        "vgg_model.summary()"
      ],
      "execution_count": 27,
      "outputs": [
        {
          "output_type": "stream",
          "text": [
            "Downloading data from https://storage.googleapis.com/tensorflow/keras-applications/vgg16/vgg16_weights_tf_dim_ordering_tf_kernels_notop.h5\n",
            "58892288/58889256 [==============================] - 0s 0us/step\n",
            "Model: \"functional_7\"\n",
            "_________________________________________________________________\n",
            "Layer (type)                 Output Shape              Param #   \n",
            "=================================================================\n",
            "input_4 (InputLayer)         [(None, 32, 32, 3)]       0         \n",
            "_________________________________________________________________\n",
            "block1_conv1 (Conv2D)        (None, 32, 32, 64)        1792      \n",
            "_________________________________________________________________\n",
            "block1_conv2 (Conv2D)        (None, 32, 32, 64)        36928     \n",
            "_________________________________________________________________\n",
            "block1_pool (MaxPooling2D)   (None, 16, 16, 64)        0         \n",
            "_________________________________________________________________\n",
            "block2_conv1 (Conv2D)        (None, 16, 16, 128)       73856     \n",
            "_________________________________________________________________\n",
            "block2_conv2 (Conv2D)        (None, 16, 16, 128)       147584    \n",
            "_________________________________________________________________\n",
            "block2_pool (MaxPooling2D)   (None, 8, 8, 128)         0         \n",
            "_________________________________________________________________\n",
            "block3_conv1 (Conv2D)        (None, 8, 8, 256)         295168    \n",
            "_________________________________________________________________\n",
            "block3_conv2 (Conv2D)        (None, 8, 8, 256)         590080    \n",
            "_________________________________________________________________\n",
            "block3_conv3 (Conv2D)        (None, 8, 8, 256)         590080    \n",
            "_________________________________________________________________\n",
            "block3_pool (MaxPooling2D)   (None, 4, 4, 256)         0         \n",
            "_________________________________________________________________\n",
            "block4_conv1 (Conv2D)        (None, 4, 4, 512)         1180160   \n",
            "_________________________________________________________________\n",
            "block4_conv2 (Conv2D)        (None, 4, 4, 512)         2359808   \n",
            "_________________________________________________________________\n",
            "block4_conv3 (Conv2D)        (None, 4, 4, 512)         2359808   \n",
            "_________________________________________________________________\n",
            "block4_pool (MaxPooling2D)   (None, 2, 2, 512)         0         \n",
            "_________________________________________________________________\n",
            "block5_conv1 (Conv2D)        (None, 2, 2, 512)         2359808   \n",
            "_________________________________________________________________\n",
            "block5_conv2 (Conv2D)        (None, 2, 2, 512)         2359808   \n",
            "_________________________________________________________________\n",
            "block5_conv3 (Conv2D)        (None, 2, 2, 512)         2359808   \n",
            "_________________________________________________________________\n",
            "block5_pool (MaxPooling2D)   (None, 1, 1, 512)         0         \n",
            "_________________________________________________________________\n",
            "flatten_1 (Flatten)          (None, 512)               0         \n",
            "_________________________________________________________________\n",
            "dense_2 (Dense)              (None, 10)                5130      \n",
            "=================================================================\n",
            "Total params: 14,719,818\n",
            "Trainable params: 5,130\n",
            "Non-trainable params: 14,714,688\n",
            "_________________________________________________________________\n"
          ],
          "name": "stdout"
        }
      ]
    },
    {
      "cell_type": "code",
      "metadata": {
        "colab": {
          "base_uri": "https://localhost:8080/"
        },
        "id": "SqTz5lv_f4jz",
        "outputId": "4949599d-f156-4a8b-d9bd-b63b05f7210b"
      },
      "source": [
        "history = vgg_model.fit(X_train, y_train, epochs=5, \n",
        "                    validation_data=(X_test, y_test))"
      ],
      "execution_count": 29,
      "outputs": [
        {
          "output_type": "stream",
          "text": [
            "Epoch 1/5\n",
            "1563/1563 [==============================] - 660s 422ms/step - loss: 1.4315 - accuracy: 0.5123 - val_loss: 1.3571 - val_accuracy: 0.5307\n",
            "Epoch 2/5\n",
            "1563/1563 [==============================] - 656s 419ms/step - loss: 1.2958 - accuracy: 0.5571 - val_loss: 1.2971 - val_accuracy: 0.5526\n",
            "Epoch 3/5\n",
            "1563/1563 [==============================] - 657s 420ms/step - loss: 1.2437 - accuracy: 0.5735 - val_loss: 1.2627 - val_accuracy: 0.5616\n",
            "Epoch 4/5\n",
            "1563/1563 [==============================] - 657s 420ms/step - loss: 1.2136 - accuracy: 0.5839 - val_loss: 1.2426 - val_accuracy: 0.5685\n",
            "Epoch 5/5\n",
            "1563/1563 [==============================] - 661s 423ms/step - loss: 1.1927 - accuracy: 0.5904 - val_loss: 1.2300 - val_accuracy: 0.5722\n"
          ],
          "name": "stdout"
        }
      ]
    },
    {
      "cell_type": "code",
      "metadata": {
        "colab": {
          "base_uri": "https://localhost:8080/",
          "height": 282
        },
        "id": "k3IsOWZVgVEP",
        "outputId": "4e1319fa-1160-47e5-d56f-fcf07c8ee73a"
      },
      "source": [
        "plt.plot(history.history['loss'])\n",
        "plt.plot(history.history['val_loss'])\n",
        "plt.legend(labels=['train_loss','test_loss'])"
      ],
      "execution_count": 30,
      "outputs": [
        {
          "output_type": "execute_result",
          "data": {
            "text/plain": [
              "<matplotlib.legend.Legend at 0x7fb34ed2e5f8>"
            ]
          },
          "metadata": {
            "tags": []
          },
          "execution_count": 30
        },
        {
          "output_type": "display_data",
          "data": {
            "image/png": "[encoded data removed]",
            "text/plain": [
              "<Figure size 432x288 with 1 Axes>"
            ]
          },
          "metadata": {
            "tags": [],
            "needs_background": "light"
          }
        }
      ]
    },
    {
      "cell_type": "code",
      "metadata": {
        "colab": {
          "base_uri": "https://localhost:8080/",
          "height": 282
        },
        "id": "hli592W5tLWs",
        "outputId": "2902e241-50c3-4a35-b32c-bac5a00d30a9"
      },
      "source": [
        "plt.plot(history.history['accuracy'])\n",
        "plt.plot(history.history['val_accuracy'])\n",
        "plt.legend(labels=['train_accu','test_accu'])"
      ],
      "execution_count": 31,
      "outputs": [
        {
          "output_type": "execute_result",
          "data": {
            "text/plain": [
              "<matplotlib.legend.Legend at 0x7fb34b852ef0>"
            ]
          },
          "metadata": {
            "tags": []
          },
          "execution_count": 31
        },
        {
          "output_type": "display_data",
          "data": {
            "image/png": "[encoded data removed]",
            "text/plain": [
              "<Figure size 432x288 with 1 Axes>"
            ]
          },
          "metadata": {
            "tags": [],
            "needs_background": "light"
          }
        }
      ]
    },
    {
      "cell_type": "markdown",
      "metadata": {
        "id": "MD4kb332tW-o"
      },
      "source": [
        "3. Text Classification"
      ]
    },
    {
      "cell_type": "code",
      "metadata": {
        "colab": {
          "resources": {
            "http://localhost:8080/nbextensions/google.colab/files.js": {
              "data": "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",
              "ok": true,
              "headers": [
                [
                  "content-type",
                  "application/javascript"
                ]
              ],
              "status": 200,
              "status_text": ""
            }
          },
          "base_uri": "https://localhost:8080/",
          "height": 76
        },
        "id": "cHfe3JS_tUQz",
        "outputId": "58e60308-873c-4384-f347-8c8132d5f1df"
      },
      "source": [
        "from google.colab import files\n",
        "data = files.upload()"
      ],
      "execution_count": 34,
      "outputs": [
        {
          "output_type": "display_data",
          "data": {
            "text/html": [
              "\n",
              "     <input type=\"file\" id=\"files-f1302536-9d51-4618-9437-1ac796b9e903\" name=\"files[]\" multiple disabled\n",
              "        style=\"border:none\" />\n",
              "     <output id=\"result-f1302536-9d51-4618-9437-1ac796b9e903\">\n",
              "      Upload widget is only available when the cell has been executed in the\n",
              "      current browser session. Please rerun this cell to enable.\n",
              "      </output>\n",
              "      <script src=\"/nbextensions/google.colab/files.js\"></script> "
            ],
            "text/plain": [
              "<IPython.core.display.HTML object>"
            ]
          },
          "metadata": {
            "tags": []
          }
        },
        {
          "output_type": "stream",
          "text": [
            "Saving SPAM_detection.csv to SPAM_detection (1).csv\n"
          ],
          "name": "stdout"
        }
      ]
    },
    {
      "cell_type": "code",
      "metadata": {
        "id": "ffAFUAGXtiXC"
      },
      "source": [
        "data=pd.read_csv('SPAM_detection.csv')"
      ],
      "execution_count": 36,
      "outputs": []
    },
    {
      "cell_type": "code",
      "metadata": {
        "colab": {
          "base_uri": "https://localhost:8080/",
          "height": 419
        },
        "id": "UtzAVMERucO9",
        "outputId": "8901fb5f-d3d2-4182-c8f8-6b5b5d71425c"
      },
      "source": [
        "data"
      ],
      "execution_count": 38,
      "outputs": [
        {
          "output_type": "execute_result",
          "data": {
            "text/html": [
              "<div>\n",
              "<style scoped>\n",
              "    .dataframe tbody tr th:only-of-type {\n",
              "        vertical-align: middle;\n",
              "    }\n",
              "\n",
              "    .dataframe tbody tr th {\n",
              "        vertical-align: top;\n",
              "    }\n",
              "\n",
              "    .dataframe thead th {\n",
              "        text-align: right;\n",
              "    }\n",
              "</style>\n",
              "<table border=\"1\" class=\"dataframe\">\n",
              "  <thead>\n",
              "    <tr style=\"text-align: right;\">\n",
              "      <th></th>\n",
              "      <th>Message</th>\n",
              "      <th>category_val</th>\n",
              "    </tr>\n",
              "  </thead>\n",
              "  <tbody>\n",
              "    <tr>\n",
              "      <th>0</th>\n",
              "      <td>Go until jurong point, crazy.. Available only ...</td>\n",
              "      <td>0</td>\n",
              "    </tr>\n",
              "    <tr>\n",
              "      <th>1</th>\n",
              "      <td>Ok lar... Joking wif u oni...</td>\n",
              "      <td>0</td>\n",
              "    </tr>\n",
              "    <tr>\n",
              "      <th>2</th>\n",
              "      <td>Free entry in 2 a wkly comp to win FA Cup fina...</td>\n",
              "      <td>1</td>\n",
              "    </tr>\n",
              "    <tr>\n",
              "      <th>3</th>\n",
              "      <td>U dun say so early hor... U c already then say...</td>\n",
              "      <td>0</td>\n",
              "    </tr>\n",
              "    <tr>\n",
              "      <th>4</th>\n",
              "      <td>Nah I don't think he goes to usf, he lives aro...</td>\n",
              "      <td>0</td>\n",
              "    </tr>\n",
              "    <tr>\n",
              "      <th>...</th>\n",
              "      <td>...</td>\n",
              "      <td>...</td>\n",
              "    </tr>\n",
              "    <tr>\n",
              "      <th>5567</th>\n",
              "      <td>This is the 2nd time we have tried 2 contact u...</td>\n",
              "      <td>1</td>\n",
              "    </tr>\n",
              "    <tr>\n",
              "      <th>5568</th>\n",
              "      <td>Will ü b going to esplanade fr home?</td>\n",
              "      <td>0</td>\n",
              "    </tr>\n",
              "    <tr>\n",
              "      <th>5569</th>\n",
              "      <td>Pity, * was in mood for that. So...any other s...</td>\n",
              "      <td>0</td>\n",
              "    </tr>\n",
              "    <tr>\n",
              "      <th>5570</th>\n",
              "      <td>The guy did some bitching but I acted like i'd...</td>\n",
              "      <td>0</td>\n",
              "    </tr>\n",
              "    <tr>\n",
              "      <th>5571</th>\n",
              "      <td>Rofl. Its true to its name</td>\n",
              "      <td>0</td>\n",
              "    </tr>\n",
              "  </tbody>\n",
              "</table>\n",
              "<p>5572 rows × 2 columns</p>\n",
              "</div>"
            ],
            "text/plain": [
              "                                                Message  category_val\n",
              "0     Go until jurong point, crazy.. Available only ...             0\n",
              "1                         Ok lar... Joking wif u oni...             0\n",
              "2     Free entry in 2 a wkly comp to win FA Cup fina...             1\n",
              "3     U dun say so early hor... U c already then say...             0\n",
              "4     Nah I don't think he goes to usf, he lives aro...             0\n",
              "...                                                 ...           ...\n",
              "5567  This is the 2nd time we have tried 2 contact u...             1\n",
              "5568               Will ü b going to esplanade fr home?             0\n",
              "5569  Pity, * was in mood for that. So...any other s...             0\n",
              "5570  The guy did some bitching but I acted like i'd...             0\n",
              "5571                         Rofl. Its true to its name             0\n",
              "\n",
              "[5572 rows x 2 columns]"
            ]
          },
          "metadata": {
            "tags": []
          },
          "execution_count": 38
        }
      ]
    },
    {
      "cell_type": "code",
      "metadata": {
        "id": "jNkJaPf2uhml"
      },
      "source": [
        "# data preprocess\n",
        "# transform to lower case\n",
        "data['Message'] = data['Message'].str.lower()\n",
        "text = data['Message'].values\n",
        "cat = data['category_val'].values"
      ],
      "execution_count": 39,
      "outputs": []
    },
    {
      "cell_type": "code",
      "metadata": {
        "id": "Gv827Ki6vGvi"
      },
      "source": [
        "# transform to sequences\n",
        "tokenizer = Tokenizer()\n",
        "tokenizer.fit_on_texts(text)\n",
        "text = tokenizer.texts_to_sequences(text)\n",
        "text = sequence.pad_sequences(text)"
      ],
      "execution_count": 40,
      "outputs": []
    },
    {
      "cell_type": "code",
      "metadata": {
        "colab": {
          "base_uri": "https://localhost:8080/"
        },
        "id": "zBZGXIl1vUgZ",
        "outputId": "4321643c-a963-494b-a153-b3b74366aab1"
      },
      "source": [
        "text.shape, cat.shape"
      ],
      "execution_count": 41,
      "outputs": [
        {
          "output_type": "execute_result",
          "data": {
            "text/plain": [
              "((5572, 189), (5572,))"
            ]
          },
          "metadata": {
            "tags": []
          },
          "execution_count": 41
        }
      ]
    },
    {
      "cell_type": "code",
      "metadata": {
        "id": "8zufeDy3vZC9"
      },
      "source": [
        "from sklearn.model_selection import train_test_split, ShuffleSplit\n",
        "from sklearn.metrics import roc_curve, roc_auc_score\n",
        "import sklearn.metrics as metrics\n",
        "# split the data randomly\n",
        "X_train,X_test,y_train,y_test = train_test_split(text,cat,test_size=0.30,random_state=20)"
      ],
      "execution_count": 50,
      "outputs": []
    },
    {
      "cell_type": "code",
      "metadata": {
        "colab": {
          "base_uri": "https://localhost:8080/"
        },
        "id": "NLvFclJtwEL1",
        "outputId": "24d3ed82-8568-4a9f-9ff5-3bfbc32018a7"
      },
      "source": [
        "from keras.layers import LSTM\n",
        "# RNN\n",
        "text_rnn = tfk.Sequential([tfkl.Embedding(len(tokenizer.word_index)+1,10,input_length=trainX.shape[1]),\n",
        "  # LSTM\n",
        "  tfkl.LSTM(64,return_sequences=True),\n",
        "  # decrease dimension\n",
        "  tfkl.GlobalMaxPool1D(),\n",
        "  tfkl.Dropout(0.3),\n",
        "  tfkl.Dense(1,activation='sigmoid')                                \n",
        "])\n",
        "\n",
        "# binary_crossentropy\n",
        "text_rnn.compile(optimizer = tfk.optimizers.RMSprop(),loss = 'binary_crossentropy')\n",
        "text_rnn.summary()"
      ],
      "execution_count": 51,
      "outputs": [
        {
          "output_type": "stream",
          "text": [
            "Model: \"sequential_2\"\n",
            "_________________________________________________________________\n",
            "Layer (type)                 Output Shape              Param #   \n",
            "=================================================================\n",
            "embedding_1 (Embedding)      (None, 32, 10)            90050     \n",
            "_________________________________________________________________\n",
            "lstm_1 (LSTM)                (None, 32, 64)            19200     \n",
            "_________________________________________________________________\n",
            "global_max_pooling1d_1 (Glob (None, 64)                0         \n",
            "_________________________________________________________________\n",
            "dropout_2 (Dropout)          (None, 64)                0         \n",
            "_________________________________________________________________\n",
            "dense_4 (Dense)              (None, 1)                 65        \n",
            "=================================================================\n",
            "Total params: 109,315\n",
            "Trainable params: 109,315\n",
            "Non-trainable params: 0\n",
            "_________________________________________________________________\n"
          ],
          "name": "stdout"
        }
      ]
    },
    {
      "cell_type": "code",
      "metadata": {
        "colab": {
          "base_uri": "https://localhost:8080/"
        },
        "id": "YcBfjV_Iw7Zi",
        "outputId": "d7985b1f-886e-4fd2-fd0f-f3e5888b9c49"
      },
      "source": [
        "text_rnn.fit(X_train,y_train,\n",
        "              epochs=10,batch_size=189,\n",
        "              validation_data=(X_test,y_test))"
      ],
      "execution_count": 54,
      "outputs": [
        {
          "output_type": "stream",
          "text": [
            "Epoch 1/10\n",
            "21/21 [==============================] - 7s 348ms/step - loss: 0.0131 - val_loss: 0.0562\n",
            "Epoch 2/10\n",
            "21/21 [==============================] - 7s 347ms/step - loss: 0.0136 - val_loss: 0.0586\n",
            "Epoch 3/10\n",
            "21/21 [==============================] - 7s 343ms/step - loss: 0.0091 - val_loss: 0.0642\n",
            "Epoch 4/10\n",
            "21/21 [==============================] - 7s 347ms/step - loss: 0.0080 - val_loss: 0.0641\n",
            "Epoch 5/10\n",
            "21/21 [==============================] - 7s 349ms/step - loss: 0.0099 - val_loss: 0.0612\n",
            "Epoch 6/10\n",
            "21/21 [==============================] - 7s 344ms/step - loss: 0.0072 - val_loss: 0.0655\n",
            "Epoch 7/10\n",
            "21/21 [==============================] - 8s 403ms/step - loss: 0.0066 - val_loss: 0.0639\n",
            "Epoch 8/10\n",
            "21/21 [==============================] - 7s 342ms/step - loss: 0.0052 - val_loss: 0.0683\n",
            "Epoch 9/10\n",
            "21/21 [==============================] - 7s 350ms/step - loss: 0.0043 - val_loss: 0.0653\n",
            "Epoch 10/10\n",
            "21/21 [==============================] - 7s 346ms/step - loss: 0.0062 - val_loss: 0.0694\n"
          ],
          "name": "stdout"
        },
        {
          "output_type": "execute_result",
          "data": {
            "text/plain": [
              "<tensorflow.python.keras.callbacks.History at 0x7fb34be1bf28>"
            ]
          },
          "metadata": {
            "tags": []
          },
          "execution_count": 54
        }
      ]
    },
    {
      "cell_type": "code",
      "metadata": {
        "id": "i3r_icSWxFeT"
      },
      "source": [
        "rnn_pred = text_rnn.predict(X_test)"
      ],
      "execution_count": 56,
      "outputs": []
    },
    {
      "cell_type": "code",
      "metadata": {
        "colab": {
          "base_uri": "https://localhost:8080/"
        },
        "id": "o18OGwYsyMrJ",
        "outputId": "72d33ec9-dc99-40de-b61e-2b08047ac4f5"
      },
      "source": [
        "# CNN\n",
        "text_cnn = tfk.Sequential([\n",
        "  # relu fucntion\n",
        "  tfkl.Conv1D(filters= 64,kernel_size=2,strides=1,activation='relu',padding='same',input_shape=(X_train.shape[1],1)),\n",
        "  tfkl.MaxPooling1D(pool_size=2,padding='same'),\n",
        "  tfkl.Conv1D(filters = 64, kernel_size=2,strides=1,activation='relu',padding='same'),\n",
        "  tfkl.Dropout(0.3),\n",
        "  tfkl.Conv1D(32,kernel_size=2,strides=1,activation='relu',padding='same'),\n",
        "  tfkl.Flatten(),\n",
        "  tfkl.Dense(16,activation='relu'),\n",
        "  tfkl.Dense(1,activation='sigmoid')                     \n",
        "])\n",
        "text_cnn.summary()"
      ],
      "execution_count": 58,
      "outputs": [
        {
          "output_type": "stream",
          "text": [
            "Model: \"sequential_4\"\n",
            "_________________________________________________________________\n",
            "Layer (type)                 Output Shape              Param #   \n",
            "=================================================================\n",
            "conv1d_3 (Conv1D)            (None, 189, 64)           192       \n",
            "_________________________________________________________________\n",
            "max_pooling1d_1 (MaxPooling1 (None, 95, 64)            0         \n",
            "_________________________________________________________________\n",
            "conv1d_4 (Conv1D)            (None, 95, 64)            8256      \n",
            "_________________________________________________________________\n",
            "dropout_4 (Dropout)          (None, 95, 64)            0         \n",
            "_________________________________________________________________\n",
            "conv1d_5 (Conv1D)            (None, 95, 32)            4128      \n",
            "_________________________________________________________________\n",
            "flatten_3 (Flatten)          (None, 3040)              0         \n",
            "_________________________________________________________________\n",
            "dense_7 (Dense)              (None, 16)                48656     \n",
            "_________________________________________________________________\n",
            "dense_8 (Dense)              (None, 1)                 17        \n",
            "=================================================================\n",
            "Total params: 61,249\n",
            "Trainable params: 61,249\n",
            "Non-trainable params: 0\n",
            "_________________________________________________________________\n"
          ],
          "name": "stdout"
        }
      ]
    },
    {
      "cell_type": "code",
      "metadata": {
        "id": "Ou4RpNI-zGrO"
      },
      "source": [
        "X_train = X_train[:,:,None]\n",
        "X_test = X_test[:,:,None]\n",
        "text_cnn.compile(optimizer = tfk.optimizers.Adam(),loss = 'binary_crossentropy')"
      ],
      "execution_count": 59,
      "outputs": []
    },
    {
      "cell_type": "code",
      "metadata": {
        "colab": {
          "base_uri": "https://localhost:8080/"
        },
        "id": "D42AdFbNzhs9",
        "outputId": "31566be9-07b9-459b-c5c9-178459d295de"
      },
      "source": [
        "text_cnn.fit(X_train,y_train, epochs = 10,\n",
        "             batch_size = 32,\n",
        "             validation_data=(X_test,y_test))"
      ],
      "execution_count": 60,
      "outputs": [
        {
          "output_type": "stream",
          "text": [
            "Epoch 1/10\n",
            "122/122 [==============================] - 3s 22ms/step - loss: 3.5095 - val_loss: 0.3707\n",
            "Epoch 2/10\n",
            "122/122 [==============================] - 3s 22ms/step - loss: 0.3759 - val_loss: 0.3051\n",
            "Epoch 3/10\n",
            "122/122 [==============================] - 3s 21ms/step - loss: 0.3139 - val_loss: 0.2935\n",
            "Epoch 4/10\n",
            "122/122 [==============================] - 3s 22ms/step - loss: 0.2967 - val_loss: 0.2823\n",
            "Epoch 5/10\n",
            "122/122 [==============================] - 3s 21ms/step - loss: 0.2848 - val_loss: 0.2787\n",
            "Epoch 6/10\n",
            "122/122 [==============================] - 3s 21ms/step - loss: 0.2801 - val_loss: 0.2786\n",
            "Epoch 7/10\n",
            "122/122 [==============================] - 3s 22ms/step - loss: 0.2759 - val_loss: 0.2784\n",
            "Epoch 8/10\n",
            "122/122 [==============================] - 3s 22ms/step - loss: 0.2741 - val_loss: 0.2713\n",
            "Epoch 9/10\n",
            "122/122 [==============================] - 3s 21ms/step - loss: 0.2762 - val_loss: 0.2809\n",
            "Epoch 10/10\n",
            "122/122 [==============================] - 3s 21ms/step - loss: 0.2710 - val_loss: 0.2733\n"
          ],
          "name": "stdout"
        },
        {
          "output_type": "execute_result",
          "data": {
            "text/plain": [
              "<tensorflow.python.keras.callbacks.History at 0x7fb34bd3b710>"
            ]
          },
          "metadata": {
            "tags": []
          },
          "execution_count": 60
        }
      ]
    },
    {
      "cell_type": "code",
      "metadata": {
        "id": "OU_K_M8ZzwFA"
      },
      "source": [
        "cnn_pred = text_cnn.predict(X_test)"
      ],
      "execution_count": 62,
      "outputs": []
    },
    {
      "cell_type": "code",
      "metadata": {
        "id": "a3ygP7jEz86d"
      },
      "source": [
        "# Plot ROC Curve\n",
        "from sklearn.metrics import auc\n",
        "\n",
        "rnn_fpr, rnn_tpr, rnn_ = roc_curve(y_test, rnn_pred)\n",
        "rnn_auc = auc(rnn_fpr, rnn_tpr)\n",
        "\n",
        "cnn_fpr,cnn_tpr, cnn_ = roc_curve(y_test, cnn_pred)\n",
        "cnn_auc = auc(cnn_fpr, cnn_tpr)"
      ],
      "execution_count": 64,
      "outputs": []
    },
    {
      "cell_type": "code",
      "metadata": {
        "colab": {
          "base_uri": "https://localhost:8080/",
          "height": 295
        },
        "id": "ec-wI0RB0Qww",
        "outputId": "45db3d6e-15ff-4b33-f8c2-82d5550726b8"
      },
      "source": [
        "plt.title('ROC curves of RNN model and CNN model')\n",
        "plt.plot(cnn_fpr, cnn_tpr, 'b', label = 'CNN')\n",
        "plt.plot(rnn_fpr,rnn_tpr,'g',label='RNN')\n",
        "plt.legend(loc = 'lower right')\n",
        "plt.plot([0, 1], [0, 1],'r--')\n",
        "plt.ylabel('True Positive Rate')\n",
        "plt.xlabel('False Positive Rate')\n",
        "plt.show()"
      ],
      "execution_count": 74,
      "outputs": [
        {
          "output_type": "display_data",
          "data": {
            "image/png": "[encoded data removed]",
            "text/plain": [
              "<Figure size 432x288 with 1 Axes>"
            ]
          },
          "metadata": {
            "tags": [],
            "needs_background": "light"
          }
        }
      ]
    },
    {
      "cell_type": "code",
      "metadata": {
        "id": "aEjLNm080hKk"
      },
      "source": [
        "# End"
      ],
      "execution_count": 76,
      "outputs": []
    }
  ]
}