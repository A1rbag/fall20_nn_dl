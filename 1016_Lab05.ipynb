{
  "nbformat": 4,
  "nbformat_minor": 0,
  "metadata": {
    "colab": {
      "name": "Copy_of_keras_lab.ipynb",
      "provenance": [],
      "collapsed_sections": []
    },
    "kernelspec": {
      "name": "python3",
      "display_name": "Python 3"
    },
    "accelerator": "TPU",
    "widgets": {
      "application/vnd.jupyter.widget-state+json": {
        "a6f7b4d09317488891a9ac273d4b192a": {
          "model_module": "@jupyter-widgets/controls",
          "model_name": "HBoxModel",
          "state": {
            "_view_name": "HBoxView",
            "_dom_classes": [],
            "_model_name": "HBoxModel",
            "_view_module": "@jupyter-widgets/controls",
            "_model_module_version": "1.5.0",
            "_view_count": null,
            "_view_module_version": "1.5.0",
            "box_style": "",
            "layout": "IPY_MODEL_5411d8ef2199434680484e9511d62d82",
            "_model_module": "@jupyter-widgets/controls",
            "children": [
              "IPY_MODEL_e75806772bad4df38e6c1b01a3fb45af",
              "IPY_MODEL_6b7532eb46374f78bd5d74f190835f20"
            ]
          }
        },
        "5411d8ef2199434680484e9511d62d82": {
          "model_module": "@jupyter-widgets/base",
          "model_name": "LayoutModel",
          "state": {
            "_view_name": "LayoutView",
            "grid_template_rows": null,
            "right": null,
            "justify_content": null,
            "_view_module": "@jupyter-widgets/base",
            "overflow": null,
            "_model_module_version": "1.2.0",
            "_view_count": null,
            "flex_flow": null,
            "width": null,
            "min_width": null,
            "border": null,
            "align_items": null,
            "bottom": null,
            "_model_module": "@jupyter-widgets/base",
            "top": null,
            "grid_column": null,
            "overflow_y": null,
            "overflow_x": null,
            "grid_auto_flow": null,
            "grid_area": null,
            "grid_template_columns": null,
            "flex": null,
            "_model_name": "LayoutModel",
            "justify_items": null,
            "grid_row": null,
            "max_height": null,
            "align_content": null,
            "visibility": null,
            "align_self": null,
            "height": null,
            "min_height": null,
            "padding": null,
            "grid_auto_rows": null,
            "grid_gap": null,
            "max_width": null,
            "order": null,
            "_view_module_version": "1.2.0",
            "grid_template_areas": null,
            "object_position": null,
            "object_fit": null,
            "grid_auto_columns": null,
            "margin": null,
            "display": null,
            "left": null
          }
        },
        "e75806772bad4df38e6c1b01a3fb45af": {
          "model_module": "@jupyter-widgets/controls",
          "model_name": "FloatProgressModel",
          "state": {
            "_view_name": "ProgressView",
            "style": "IPY_MODEL_cc570ab63d4d4478a784be98b4cd76ab",
            "_dom_classes": [],
            "description": "Dl Completed...: 100%",
            "_model_name": "FloatProgressModel",
            "bar_style": "success",
            "max": 4,
            "_view_module": "@jupyter-widgets/controls",
            "_model_module_version": "1.5.0",
            "value": 4,
            "_view_count": null,
            "_view_module_version": "1.5.0",
            "orientation": "horizontal",
            "min": 0,
            "description_tooltip": null,
            "_model_module": "@jupyter-widgets/controls",
            "layout": "IPY_MODEL_1df6fb309bb74d3fb3828523f4211d3d"
          }
        },
        "6b7532eb46374f78bd5d74f190835f20": {
          "model_module": "@jupyter-widgets/controls",
          "model_name": "HTMLModel",
          "state": {
            "_view_name": "HTMLView",
            "style": "IPY_MODEL_faeb155f086f4c4299f382c30fee2b30",
            "_dom_classes": [],
            "description": "",
            "_model_name": "HTMLModel",
            "placeholder": "​",
            "_view_module": "@jupyter-widgets/controls",
            "_model_module_version": "1.5.0",
            "value": " 4/4 [00:00&lt;00:00,  5.86 file/s]",
            "_view_count": null,
            "_view_module_version": "1.5.0",
            "description_tooltip": null,
            "_model_module": "@jupyter-widgets/controls",
            "layout": "IPY_MODEL_9b63069bd11845afbc1751c093112831"
          }
        },
        "cc570ab63d4d4478a784be98b4cd76ab": {
          "model_module": "@jupyter-widgets/controls",
          "model_name": "ProgressStyleModel",
          "state": {
            "_view_name": "StyleView",
            "_model_name": "ProgressStyleModel",
            "description_width": "initial",
            "_view_module": "@jupyter-widgets/base",
            "_model_module_version": "1.5.0",
            "_view_count": null,
            "_view_module_version": "1.2.0",
            "bar_color": null,
            "_model_module": "@jupyter-widgets/controls"
          }
        },
        "1df6fb309bb74d3fb3828523f4211d3d": {
          "model_module": "@jupyter-widgets/base",
          "model_name": "LayoutModel",
          "state": {
            "_view_name": "LayoutView",
            "grid_template_rows": null,
            "right": null,
            "justify_content": null,
            "_view_module": "@jupyter-widgets/base",
            "overflow": null,
            "_model_module_version": "1.2.0",
            "_view_count": null,
            "flex_flow": null,
            "width": null,
            "min_width": null,
            "border": null,
            "align_items": null,
            "bottom": null,
            "_model_module": "@jupyter-widgets/base",
            "top": null,
            "grid_column": null,
            "overflow_y": null,
            "overflow_x": null,
            "grid_auto_flow": null,
            "grid_area": null,
            "grid_template_columns": null,
            "flex": null,
            "_model_name": "LayoutModel",
            "justify_items": null,
            "grid_row": null,
            "max_height": null,
            "align_content": null,
            "visibility": null,
            "align_self": null,
            "height": null,
            "min_height": null,
            "padding": null,
            "grid_auto_rows": null,
            "grid_gap": null,
            "max_width": null,
            "order": null,
            "_view_module_version": "1.2.0",
            "grid_template_areas": null,
            "object_position": null,
            "object_fit": null,
            "grid_auto_columns": null,
            "margin": null,
            "display": null,
            "left": null
          }
        },
        "faeb155f086f4c4299f382c30fee2b30": {
          "model_module": "@jupyter-widgets/controls",
          "model_name": "DescriptionStyleModel",
          "state": {
            "_view_name": "StyleView",
            "_model_name": "DescriptionStyleModel",
            "description_width": "",
            "_view_module": "@jupyter-widgets/base",
            "_model_module_version": "1.5.0",
            "_view_count": null,
            "_view_module_version": "1.2.0",
            "_model_module": "@jupyter-widgets/controls"
          }
        },
        "9b63069bd11845afbc1751c093112831": {
          "model_module": "@jupyter-widgets/base",
          "model_name": "LayoutModel",
          "state": {
            "_view_name": "LayoutView",
            "grid_template_rows": null,
            "right": null,
            "justify_content": null,
            "_view_module": "@jupyter-widgets/base",
            "overflow": null,
            "_model_module_version": "1.2.0",
            "_view_count": null,
            "flex_flow": null,
            "width": null,
            "min_width": null,
            "border": null,
            "align_items": null,
            "bottom": null,
            "_model_module": "@jupyter-widgets/base",
            "top": null,
            "grid_column": null,
            "overflow_y": null,
            "overflow_x": null,
            "grid_auto_flow": null,
            "grid_area": null,
            "grid_template_columns": null,
            "flex": null,
            "_model_name": "LayoutModel",
            "justify_items": null,
            "grid_row": null,
            "max_height": null,
            "align_content": null,
            "visibility": null,
            "align_self": null,
            "height": null,
            "min_height": null,
            "padding": null,
            "grid_auto_rows": null,
            "grid_gap": null,
            "max_width": null,
            "order": null,
            "_view_module_version": "1.2.0",
            "grid_template_areas": null,
            "object_position": null,
            "object_fit": null,
            "grid_auto_columns": null,
            "margin": null,
            "display": null,
            "left": null
          }
        }
      }
    }
  },
  "cells": [
    {
      "cell_type": "code",
      "metadata": {
        "id": "jS47B8K0JLkx"
      },
      "source": [
        "import tensorflow as tf\n",
        "import tensorflow.keras as tfk\n",
        "import tensorflow.keras.layers as tfkl\n",
        "import numpy as np\n",
        "import matplotlib.pyplot as plt"
      ],
      "execution_count": 1,
      "outputs": []
    },
    {
      "cell_type": "markdown",
      "metadata": {
        "id": "iehoGWa6SSWU"
      },
      "source": [
        "### regression\n",
        "\n",
        "Let's start by using `keras` to make a neural network for a simple regression task where both the input and the output as 1-dimensional. Below is some code that will produce the dataset for you to train on.\n",
        "\n",
        "Here are some general steps to follow:\n",
        "1. Define your model by passing `tfk.Sequential` a list of layers (found in `tf.keras.layers`, which is already imported for you by the shorter name `tfkl`, since you will use this module many times.\n",
        "2. Your first layers should be a `tfkl.Input` layer that specifies the shape of the input (it will automatically include an empty first dimension with size `None` as a placehold for the batch size).\n",
        "3. The rest of your layers should be `tfkl.Dense` layers; you will be to specify the number of neurons/units as well as the activation function (you can find those in `tf.nn`, and you can use `None` for a \"linear\" activation function, $f(x)=x$). Make sure you pick an output function that makes sense for this prediction task!\n",
        "4. Choose an appropriate optimizer from `tfk.optimizers` and an appropriate loss function from `tfk.losses` (both are classes that wil need to be initialized), and then pass them to `model.compile` to compile your model.\n",
        "5. Call `model.fit` to fit your model and collect the results\n",
        "6. Plot your training curve (loss vs training step)\n",
        "7. Call your model (`model(...)`) on a grid of inputs (code to make the grid provided) and plot the relationship your model learned against the true relationship (defined as `f` in the code below)."
      ]
    },
    {
      "cell_type": "code",
      "metadata": {
        "id": "HDgsWoAKJbxz",
        "outputId": "1b8de5f6-084f-4203-889a-821364f2703c",
        "colab": {
          "base_uri": "https://localhost:8080/",
          "height": 265
        }
      },
      "source": [
        "def regression_data(N):\n",
        "  x = np.random.uniform(low=-5.0, high=5.0, size=(N, 1)).astype(np.float32)\n",
        "  e = 0.2 * np.random.normal(size=(N, 1)).astype(np.float32)\n",
        "  f = lambda x: 0.2 * x**2 * np.sin(2 * np.pi * x / 6)\n",
        "  y = f(x) + e\n",
        "  return x, y\n",
        "\n",
        "N = 100\n",
        "x, y = regression_data(N)\n",
        "x_train, y_train=regression_data(100)\n",
        "x_test, y_test=regression_data(100)\n",
        "\n",
        "plt.scatter(x, y, s=10)\n",
        "plt.show()"
      ],
      "execution_count": 2,
      "outputs": [
        {
          "output_type": "display_data",
          "data": {
            "image/png": "[encoded data removed]",
            "text/plain": [
              "<Figure size 432x288 with 1 Axes>"
            ]
          },
          "metadata": {
            "tags": [],
            "needs_background": "light"
          }
        }
      ]
    },
    {
      "cell_type": "code",
      "metadata": {
        "id": "vBzgG7E0KmFR",
        "outputId": "f892d8c8-eebd-4e25-89e0-e325ef54b802",
        "colab": {
          "base_uri": "https://localhost:8080/",
          "height": 867
        }
      },
      "source": [
        "# your code here\n",
        "a=tf.nn.relu\n",
        "model=tfk.Sequential([\n",
        "    tfkl.Input((1,)),\n",
        "    tfkl.Dense(100,activation=a),\n",
        "    tfkl.Dense(20,activation=a),\n",
        "    tfkl.Dense(1,activation=None)\n",
        "])\n",
        "\n",
        "model.summary()\n",
        "\n",
        "cbs=[tfk.callbacks.EarlyStopping(min_delta=0.01, patience=2)]\n",
        "\n",
        "ds_train =tf.data.Dataset.from_tensor_slices((x_train,y_train)).batch(32).repeat().prefetch(10)\n",
        "ds_test =tf.data.Dataset.from_tensor_slices((x_train,y_train)).batch(100).repeat().prefetch(10)\n",
        "\n",
        "loss=tfk.losses.MeanSquaredError()\n",
        "opt=tfk.optimizers.Adam()\n",
        "model.compile(opt,loss)\n",
        "\n",
        "results=model.fit(ds_train,steps_per_epoch=100, epochs=10000, callbacks=cbs, validation_data=ds_test, validation_steps=1)\n",
        "model.summary()"
      ],
      "execution_count": 3,
      "outputs": [
        {
          "output_type": "stream",
          "text": [
            "Model: \"sequential\"\n",
            "_________________________________________________________________\n",
            "Layer (type)                 Output Shape              Param #   \n",
            "=================================================================\n",
            "dense (Dense)                (None, 100)               200       \n",
            "_________________________________________________________________\n",
            "dense_1 (Dense)              (None, 20)                2020      \n",
            "_________________________________________________________________\n",
            "dense_2 (Dense)              (None, 1)                 21        \n",
            "=================================================================\n",
            "Total params: 2,241\n",
            "Trainable params: 2,241\n",
            "Non-trainable params: 0\n",
            "_________________________________________________________________\n",
            "Epoch 1/10000\n",
            "100/100 [==============================] - 0s 4ms/step - loss: 2.8920 - val_loss: 1.8590\n",
            "Epoch 2/10000\n",
            "100/100 [==============================] - 0s 1ms/step - loss: 1.6209 - val_loss: 1.3456\n",
            "Epoch 3/10000\n",
            "100/100 [==============================] - 0s 1ms/step - loss: 1.0290 - val_loss: 0.7017\n",
            "Epoch 4/10000\n",
            "100/100 [==============================] - 0s 1ms/step - loss: 0.4732 - val_loss: 0.2867\n",
            "Epoch 5/10000\n",
            "100/100 [==============================] - 0s 1ms/step - loss: 0.1943 - val_loss: 0.1269\n",
            "Epoch 6/10000\n",
            "100/100 [==============================] - 0s 1ms/step - loss: 0.0976 - val_loss: 0.0758\n",
            "Epoch 7/10000\n",
            "100/100 [==============================] - 0s 1ms/step - loss: 0.0678 - val_loss: 0.0599\n",
            "Epoch 8/10000\n",
            "100/100 [==============================] - 0s 1ms/step - loss: 0.0563 - val_loss: 0.0527\n",
            "Epoch 9/10000\n",
            "100/100 [==============================] - 0s 1ms/step - loss: 0.0510 - val_loss: 0.0491\n",
            "Epoch 10/10000\n",
            "100/100 [==============================] - 0s 1ms/step - loss: 0.0490 - val_loss: 0.0484\n",
            "Epoch 11/10000\n",
            "100/100 [==============================] - 0s 1ms/step - loss: 0.0478 - val_loss: 0.0470\n",
            "Model: \"sequential\"\n",
            "_________________________________________________________________\n",
            "Layer (type)                 Output Shape              Param #   \n",
            "=================================================================\n",
            "dense (Dense)                (None, 100)               200       \n",
            "_________________________________________________________________\n",
            "dense_1 (Dense)              (None, 20)                2020      \n",
            "_________________________________________________________________\n",
            "dense_2 (Dense)              (None, 1)                 21        \n",
            "=================================================================\n",
            "Total params: 2,241\n",
            "Trainable params: 2,241\n",
            "Non-trainable params: 0\n",
            "_________________________________________________________________\n"
          ],
          "name": "stdout"
        }
      ]
    },
    {
      "cell_type": "code",
      "metadata": {
        "id": "pfTAjPcKG0Ok",
        "outputId": "59cac054-8a29-4907-be84-1b0b83ffb2d5",
        "colab": {
          "base_uri": "https://localhost:8080/",
          "height": 284
        }
      },
      "source": [
        "plt.plot(results.history['loss'])\n",
        "plt.plot(results.history['val_loss'])"
      ],
      "execution_count": 4,
      "outputs": [
        {
          "output_type": "execute_result",
          "data": {
            "text/plain": [
              "[<matplotlib.lines.Line2D at 0x7fc9da5f3710>]"
            ]
          },
          "metadata": {
            "tags": []
          },
          "execution_count": 4
        },
        {
          "output_type": "display_data",
          "data": {
            "image/png": "[encoded data removed]",
            "text/plain": [
              "<Figure size 432x288 with 1 Axes>"
            ]
          },
          "metadata": {
            "tags": [],
            "needs_background": "light"
          }
        }
      ]
    },
    {
      "cell_type": "code",
      "metadata": {
        "id": "pULO0BniMAL2",
        "outputId": "2d0a3e3c-c7c3-4e1d-cdec-010f728d2172",
        "colab": {
          "base_uri": "https://localhost:8080/",
          "height": 282
        }
      },
      "source": [
        "f = lambda x: 0.2 * x**2 * np.sin(2 * np.pi * x / 6)\n",
        "\n",
        "x_grid = np.linspace(x.min(), x.max(), 200).astype(np.float32)[:, np.newaxis]\n",
        "y_true = f(x_grid)\n",
        "\n",
        "y_hat = model(x_grid)\n",
        "\n",
        "plt.scatter(x,y,s=10)\n",
        "plt.plot([],[])\n",
        "plt.plot(x_grid, y_true,label = \"true\")\n",
        "plt.plot(x_grid, y_hat,label = \"hat\")\n",
        "plt.legend()"
      ],
      "execution_count": 5,
      "outputs": [
        {
          "output_type": "execute_result",
          "data": {
            "text/plain": [
              "<matplotlib.legend.Legend at 0x7fc9da58ba90>"
            ]
          },
          "metadata": {
            "tags": []
          },
          "execution_count": 5
        },
        {
          "output_type": "display_data",
          "data": {
            "image/png": "[encoded data removed]",
            "text/plain": [
              "<Figure size 432x288 with 1 Axes>"
            ]
          },
          "metadata": {
            "tags": [],
            "needs_background": "light"
          }
        }
      ]
    },
    {
      "cell_type": "markdown",
      "metadata": {
        "id": "Dc59MczHVrc9"
      },
      "source": [
        "### binary classification\n",
        "\n",
        "Here is another dataset that differs in two key ways from the regression example we just worked:\n",
        "1. The input is now 2-dimensional\n",
        "2. The targets are now binary classes\n",
        "\n",
        "Update your model to handle both of these changes and try fitting this new data. Think about the following:\n",
        "- input shape\n",
        "- output function\n",
        "- loss function\n",
        "\n",
        "Since visualizing the results is a bit tricky, we have provided some code for that."
      ]
    },
    {
      "cell_type": "code",
      "metadata": {
        "id": "NMg8n9NRGo_9",
        "outputId": "b12f31c9-45cc-4d15-e49e-f516c62479bf",
        "colab": {
          "base_uri": "https://localhost:8080/",
          "height": 428
        }
      },
      "source": [
        "N = 200\n",
        "def binary_classification_data(N):\n",
        "  x = np.random.uniform(low=-5, high=5, size=(N, 2))\n",
        "  y = (x[:, 0] * x[:, 1] > 0).astype(np.int)\n",
        "  return x, y\n",
        "\n",
        "x_train, y_train = binary_classification_data(N)\n",
        "x_test, y_test = binary_classification_data(N)\n",
        "\n",
        "plt.figure(figsize=(7, 7))\n",
        "plt.scatter(x_train[:, 0], x_train[:, 1], s=10, c=y_train, cmap='coolwarm')\n",
        "plt.show()"
      ],
      "execution_count": 6,
      "outputs": [
        {
          "output_type": "display_data",
          "data": {
            "image/png": "[encoded data removed]",
            "text/plain": [
              "<Figure size 504x504 with 1 Axes>"
            ]
          },
          "metadata": {
            "tags": [],
            "needs_background": "light"
          }
        }
      ]
    },
    {
      "cell_type": "code",
      "metadata": {
        "id": "t4P6Ez3VJzQk",
        "outputId": "565b3384-29b2-46ae-e909-4a5ce8734a23",
        "colab": {
          "base_uri": "https://localhost:8080/",
          "height": 731
        }
      },
      "source": [
        "# your code here\n",
        "a = tf.nn.softplus\n",
        "\n",
        "model = tfk.Sequential([\n",
        "    tfkl.Input((2,)),\n",
        "    tfkl.Dense(100, activation = a),\n",
        "    tfkl.Dense(20, activation = a),\n",
        "    tfkl.Dense(1, activation = tf.nn.sigmoid)\n",
        "])\n",
        "model.summary()\n",
        "\n",
        "model.compile(optimizer = tfk.optimizers.Adam(), loss = tfk.losses.BinaryCrossentropy())\n",
        "\n",
        "ds_train =tf.data.Dataset.from_tensor_slices((x_train,y_train)).batch(32).repeat().prefetch(10)\n",
        "ds_test =tf.data.Dataset.from_tensor_slices((x_train,y_train)).batch(100).repeat().prefetch(10)\n",
        "\n",
        "result=model.fit(ds_train,steps_per_epoch=100, epochs=10000, callbacks=cbs, validation_data=ds_test, validation_steps=1)"
      ],
      "execution_count": 7,
      "outputs": [
        {
          "output_type": "stream",
          "text": [
            "Model: \"sequential_1\"\n",
            "_________________________________________________________________\n",
            "Layer (type)                 Output Shape              Param #   \n",
            "=================================================================\n",
            "dense_3 (Dense)              (None, 100)               300       \n",
            "_________________________________________________________________\n",
            "dense_4 (Dense)              (None, 20)                2020      \n",
            "_________________________________________________________________\n",
            "dense_5 (Dense)              (None, 1)                 21        \n",
            "=================================================================\n",
            "Total params: 2,341\n",
            "Trainable params: 2,341\n",
            "Non-trainable params: 0\n",
            "_________________________________________________________________\n",
            "Epoch 1/10000\n",
            "100/100 [==============================] - 0s 2ms/step - loss: 0.6614 - val_loss: 0.5661\n",
            "Epoch 2/10000\n",
            "100/100 [==============================] - 0s 2ms/step - loss: 0.4010 - val_loss: 0.2759\n",
            "Epoch 3/10000\n",
            "100/100 [==============================] - 0s 2ms/step - loss: 0.2058 - val_loss: 0.1718\n",
            "Epoch 4/10000\n",
            "100/100 [==============================] - 0s 2ms/step - loss: 0.1482 - val_loss: 0.1303\n",
            "Epoch 5/10000\n",
            "100/100 [==============================] - 0s 1ms/step - loss: 0.1230 - val_loss: 0.1056\n",
            "Epoch 6/10000\n",
            "100/100 [==============================] - 0s 2ms/step - loss: 0.1067 - val_loss: 0.0898\n",
            "Epoch 7/10000\n",
            "100/100 [==============================] - 0s 2ms/step - loss: 0.0942 - val_loss: 0.0781\n",
            "Epoch 8/10000\n",
            "100/100 [==============================] - 0s 2ms/step - loss: 0.0846 - val_loss: 0.0681\n",
            "Epoch 9/10000\n",
            "100/100 [==============================] - 0s 2ms/step - loss: 0.0778 - val_loss: 0.0609\n",
            "Epoch 10/10000\n",
            "100/100 [==============================] - 0s 2ms/step - loss: 0.0710 - val_loss: 0.0554\n",
            "Epoch 11/10000\n",
            "100/100 [==============================] - 0s 2ms/step - loss: 0.0651 - val_loss: 0.0502\n",
            "Epoch 12/10000\n",
            "100/100 [==============================] - 0s 2ms/step - loss: 0.0608 - val_loss: 0.0448\n",
            "Epoch 13/10000\n",
            "100/100 [==============================] - 0s 1ms/step - loss: 0.0569 - val_loss: 0.0420\n",
            "Epoch 14/10000\n",
            "100/100 [==============================] - 0s 1ms/step - loss: 0.0527 - val_loss: 0.0391\n"
          ],
          "name": "stdout"
        }
      ]
    },
    {
      "cell_type": "code",
      "metadata": {
        "id": "5ZUclc8PKqEC",
        "outputId": "12ef9792-8daf-46fa-ea8c-5033b52320f9",
        "colab": {
          "base_uri": "https://localhost:8080/",
          "height": 269
        }
      },
      "source": [
        "def binary_preds(model, x_minmax=5):\n",
        "  x_grid = np.linspace(-x_minmax, x_minmax, 100)\n",
        "  mesh = np.meshgrid(x_grid, x_grid)\n",
        "  xs_grid = np.stack(mesh, axis=-1)\n",
        "  yhat = model(xs_grid).numpy().squeeze()\n",
        "\n",
        "\n",
        "  plt.imshow(yhat, cmap='coolwarm')\n",
        "  plt.colorbar()\n",
        "\n",
        "# your code here\n",
        "binary_preds(model)"
      ],
      "execution_count": 8,
      "outputs": [
        {
          "output_type": "display_data",
          "data": {
            "image/png": "[encoded data removed]",
            "text/plain": [
              "<Figure size 432x288 with 2 Axes>"
            ]
          },
          "metadata": {
            "tags": [],
            "needs_background": "light"
          }
        }
      ]
    },
    {
      "cell_type": "markdown",
      "metadata": {
        "id": "f6NPT8dsWWXW"
      },
      "source": [
        "### general classfication\n",
        "\n",
        "Finally we will download and train on some real data to learn about general classification. Here is some code that will download and show some metadata about the MNIST dataset -- a collectin of handwritten digits.\n",
        "\n",
        "Update your model to work on this data so that you model can predict the digit from its image. One new thing to keep in mind: these inputs are 2D. Later in the course we will learn about convolutional neural nets for handing such inputs more naturally, but for now, update your `tfkl.Input` layer to be 2-dimensional and then add a `tfkl.Flatten()` layer right after it to unravel the 2-d image into a 1-d vector of pixels.\n",
        "\n",
        "Again, visualalizing the output is a bit tricky, so we have provided some code to help."
      ]
    },
    {
      "cell_type": "code",
      "metadata": {
        "id": "TQl7DZmBNvm_",
        "outputId": "9a5a69a6-c9ac-4ff4-d92d-6b6124cb8cc1",
        "colab": {
          "base_uri": "https://localhost:8080/",
          "height": 627,
          "referenced_widgets": [
            "a6f7b4d09317488891a9ac273d4b192a",
            "5411d8ef2199434680484e9511d62d82",
            "e75806772bad4df38e6c1b01a3fb45af",
            "6b7532eb46374f78bd5d74f190835f20",
            "cc570ab63d4d4478a784be98b4cd76ab",
            "1df6fb309bb74d3fb3828523f4211d3d",
            "faeb155f086f4c4299f382c30fee2b30",
            "9b63069bd11845afbc1751c093112831"
          ]
        }
      },
      "source": [
        "import tensorflow_datasets as tfds\n",
        "\n",
        "ds, metadata = tfds.load('mnist', with_info=True)\n",
        "print(metadata)"
      ],
      "execution_count": 9,
      "outputs": [
        {
          "output_type": "stream",
          "text": [
            "WARNING:absl:Dataset mnist is hosted on GCS. It will automatically be downloaded to your\n",
            "local data directory. If you'd instead prefer to read directly from our public\n",
            "GCS bucket (recommended if you're running on GCP), you can instead set\n",
            "data_dir=gs://tfds-data/datasets.\n",
            "\n"
          ],
          "name": "stderr"
        },
        {
          "output_type": "stream",
          "text": [
            "\u001b[1mDownloading and preparing dataset mnist/3.0.0 (download: 11.06 MiB, generated: Unknown size, total: 11.06 MiB) to /root/tensorflow_datasets/mnist/3.0.0...\u001b[0m\n"
          ],
          "name": "stdout"
        },
        {
          "output_type": "display_data",
          "data": {
            "application/vnd.jupyter.widget-view+json": {
              "model_id": "a6f7b4d09317488891a9ac273d4b192a",
              "version_minor": 0,
              "version_major": 2
            },
            "text/plain": [
              "HBox(children=(FloatProgress(value=0.0, description='Dl Completed...', max=4.0, style=ProgressStyle(descriptio…"
            ]
          },
          "metadata": {
            "tags": []
          }
        },
        {
          "output_type": "stream",
          "text": [
            "\n",
            "\n",
            "\u001b[1mDataset mnist downloaded and prepared to /root/tensorflow_datasets/mnist/3.0.0. Subsequent calls will reuse this data.\u001b[0m\n",
            "tfds.core.DatasetInfo(\n",
            "    name='mnist',\n",
            "    version=3.0.0,\n",
            "    description='The MNIST database of handwritten digits.',\n",
            "    homepage='http://yann.lecun.com/exdb/mnist/',\n",
            "    features=FeaturesDict({\n",
            "        'image': Image(shape=(28, 28, 1), dtype=tf.uint8),\n",
            "        'label': ClassLabel(shape=(), dtype=tf.int64, num_classes=10),\n",
            "    }),\n",
            "    total_num_examples=70000,\n",
            "    splits={\n",
            "        'test': 10000,\n",
            "        'train': 60000,\n",
            "    },\n",
            "    supervised_keys=('image', 'label'),\n",
            "    citation=\"\"\"@article{lecun2010mnist,\n",
            "      title={MNIST handwritten digit database},\n",
            "      author={LeCun, Yann and Cortes, Corinna and Burges, CJ},\n",
            "      journal={ATT Labs [Online]. Available: http://yann. lecun. com/exdb/mnist},\n",
            "      volume={2},\n",
            "      year={2010}\n",
            "    }\"\"\",\n",
            "    redistribution_info=,\n",
            ")\n",
            "\n"
          ],
          "name": "stdout"
        }
      ]
    },
    {
      "cell_type": "code",
      "metadata": {
        "id": "bKre0z2HOCDm",
        "outputId": "7acf485b-672c-4a45-f0bb-06a13eefa895",
        "colab": {
          "base_uri": "https://localhost:8080/",
          "height": 527
        }
      },
      "source": [
        "# your code here\n",
        "a = tf.nn.softplus\n",
        "\n",
        "model = tfk.Sequential([\n",
        "    tfkl.Input((28,28,1)),\n",
        "    tfkl.Flatten(),\n",
        "    tfkl.Dense(100, activation = a),\n",
        "    tfkl.Dense(20, activation = a),\n",
        "    tfkl.Dense(10, activation = tf.nn.softmax)\n",
        "])\n",
        "model.summary()\n",
        "\n",
        "model.compile(optimizer = tfk.optimizers.Adam(), loss = tfk.losses.SparseCategoricalCrossentropy())\n",
        "\n",
        "cbs=[tfk.callbacks.EarlyStopping(min_delta=0.01, patience=1)]\n",
        "\n",
        "preprocess = lambda d: (tf.cast(d['image'], tf.float32)/255., d['label'])\n",
        "\n",
        "ds_train = ds['train'].map(preprocess).cache().batch(32).repeat().prefetch(10)\n",
        "ds_test = ds['test'].take(1000).map(preprocess).cache().batch(1000).repeat().prefetch(10)\n",
        "\n",
        "result=model.fit(ds_train,steps_per_epoch=100,\n",
        "                 epochs=1000, callbacks=cbs, \n",
        "                 validation_data=ds_test, validation_steps=1)"
      ],
      "execution_count": 10,
      "outputs": [
        {
          "output_type": "stream",
          "text": [
            "Model: \"sequential_2\"\n",
            "_________________________________________________________________\n",
            "Layer (type)                 Output Shape              Param #   \n",
            "=================================================================\n",
            "flatten (Flatten)            (None, 784)               0         \n",
            "_________________________________________________________________\n",
            "dense_6 (Dense)              (None, 100)               78500     \n",
            "_________________________________________________________________\n",
            "dense_7 (Dense)              (None, 20)                2020      \n",
            "_________________________________________________________________\n",
            "dense_8 (Dense)              (None, 10)                210       \n",
            "=================================================================\n",
            "Total params: 80,730\n",
            "Trainable params: 80,730\n",
            "Non-trainable params: 0\n",
            "_________________________________________________________________\n",
            "Epoch 1/1000\n",
            "100/100 [==============================] - 1s 11ms/step - loss: 1.2548 - val_loss: 0.5730\n",
            "Epoch 2/1000\n",
            "100/100 [==============================] - 1s 8ms/step - loss: 0.5423 - val_loss: 0.3906\n",
            "Epoch 3/1000\n",
            "100/100 [==============================] - 1s 7ms/step - loss: 0.4299 - val_loss: 0.3459\n",
            "Epoch 4/1000\n",
            "100/100 [==============================] - 1s 8ms/step - loss: 0.3834 - val_loss: 0.3235\n",
            "Epoch 5/1000\n",
            "100/100 [==============================] - 1s 8ms/step - loss: 0.3374 - val_loss: 0.3005\n",
            "Epoch 6/1000\n",
            "100/100 [==============================] - 1s 7ms/step - loss: 0.3244 - val_loss: 0.2711\n",
            "Epoch 7/1000\n",
            "100/100 [==============================] - 1s 8ms/step - loss: 0.2690 - val_loss: 0.2725\n"
          ],
          "name": "stdout"
        }
      ]
    },
    {
      "cell_type": "code",
      "metadata": {
        "id": "oJ17dcdQOt_w",
        "outputId": "ef42d89f-24de-4237-9d24-201f7bcb0135",
        "colab": {
          "base_uri": "https://localhost:8080/",
          "height": 713
        }
      },
      "source": [
        "\n",
        "def mnist_viz(model):\n",
        "    ims, labels = next(iter(ds['test'].map(preprocess).batch(10)))\n",
        "    yhat = model(ims)\n",
        "    ypred = tf.argmax(yhat)\n",
        "\n",
        "    plt.figure(figsize=(10, 40))\n",
        "    for i in range(10):\n",
        "        plt.subplot(10, 2, 2*i+1)\n",
        "        plt.imshow(ims[i].numpy().squeeze(), cmap='bone')\n",
        "        plt.subplot(10, 2, 2*i+2)\n",
        "        plt.bar(np.arange(10), yhat[i].numpy())\n",
        "        plt.ylim([0, 1])\n",
        "        plt.show()\n",
        "\n",
        "# your code here\n",
        "mnist_viz(model)"
      ],
      "execution_count": 11,
      "outputs": [
        {
          "output_type": "display_data",
          "data": {
            "image/png": "[encoded data removed]",
            "text/plain": [
              "<Figure size 720x2880 with 2 Axes>"
            ]
          },
          "metadata": {
            "tags": [],
            "needs_background": "light"
          }
        },
        {
          "output_type": "display_data",
          "data": {
            "image/png": "[encoded data removed]",
            "text/plain": [
              "<Figure size 432x288 with 2 Axes>"
            ]
          },
          "metadata": {
            "tags": [],
            "needs_background": "light"
          }
        },
        {
          "output_type": "display_data",
          "data": {
            "image/png": "[encoded data removed]",
            "text/plain": [
              "<Figure size 432x288 with 2 Axes>"
            ]
          },
          "metadata": {
            "tags": [],
            "needs_background": "light"
          }
        },
        {
          "output_type": "display_data",
          "data": {
            "image/png": "[encoded data removed]",
            "text/plain": [
              "<Figure size 432x288 with 2 Axes>"
            ]
          },
          "metadata": {
            "tags": [],
            "needs_background": "light"
          }
        },
        {
          "output_type": "display_data",
          "data": {
            "image/png": "[encoded data removed]",
            "text/plain": [
              "<Figure size 432x288 with 2 Axes>"
            ]
          },
          "metadata": {
            "tags": [],
            "needs_background": "light"
          }
        },
        {
          "output_type": "display_data",
          "data": {
            "image/png": "[encoded data removed]",
            "text/plain": [
              "<Figure size 432x288 with 2 Axes>"
            ]
          },
          "metadata": {
            "tags": [],
            "needs_background": "light"
          }
        },
        {
          "output_type": "display_data",
          "data": {
            "image/png": "[encoded data removed]",
            "text/plain": [
              "<Figure size 432x288 with 2 Axes>"
            ]
          },
          "metadata": {
            "tags": [],
            "needs_background": "light"
          }
        },
        {
          "output_type": "display_data",
          "data": {
            "image/png": "[encoded data removed]",
            "text/plain": [
              "<Figure size 432x288 with 2 Axes>"
            ]
          },
          "metadata": {
            "tags": [],
            "needs_background": "light"
          }
        },
        {
          "output_type": "display_data",
          "data": {
            "image/png": "[encoded data removed]",
            "text/plain": [
              "<Figure size 432x288 with 2 Axes>"
            ]
          },
          "metadata": {
            "tags": [],
            "needs_background": "light"
          }
        },
        {
          "output_type": "display_data",
          "data": {
            "image/png": "[encoded data removed]",
            "text/plain": [
              "<Figure size 432x288 with 2 Axes>"
            ]
          },
          "metadata": {
            "tags": [],
            "needs_background": "light"
          }
        }
      ]
    }
  ]
}